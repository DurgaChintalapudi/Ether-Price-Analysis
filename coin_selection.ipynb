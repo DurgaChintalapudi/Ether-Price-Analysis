{
 "cells": [
  {
   "cell_type": "markdown",
   "id": "747eec31-3a0d-4c33-9eff-5412734129dc",
   "metadata": {},
   "source": [
    "# Load rankings and categories"
   ]
  },
  {
   "cell_type": "code",
   "execution_count": 13,
   "id": "8e89eec6-d478-4a1f-ab0d-dad329d77211",
   "metadata": {},
   "outputs": [],
   "source": [
    "import numpy as np\n",
    "import pandas as pd\n",
    "from pandas.io.json import json_normalize\n",
    "import matplotlib\n",
    "import matplotlib.pyplot as plt\n",
    "%matplotlib inline\n",
    "import seaborn as sns\n",
    "import json,os,pdb\n",
    "import tqdm\n",
    "import warnings"
   ]
  },
  {
   "cell_type": "markdown",
   "id": "528cc0d8-a9ab-44ae-b956-ca8a546b9d2a",
   "metadata": {},
   "source": [
    "# Choose the universe\n",
    "\n",
    "Select the number of coins to consider. Right now we are still using a market cap criteria"
   ]
  },
  {
   "cell_type": "code",
   "execution_count": 14,
   "id": "c6f9e899-5ade-4824-86eb-8799cf2c8bdb",
   "metadata": {},
   "outputs": [],
   "source": [
    "N = 50"
   ]
  },
  {
   "cell_type": "markdown",
   "id": "268988ca-a8f1-481e-a3a3-b96ee4b3562b",
   "metadata": {},
   "source": [
    "# Load data\n"
   ]
  },
  {
   "cell_type": "code",
   "execution_count": 15,
   "outputs": [
    {
     "data": {
      "text/plain": "                                                   time_open  \\\nsymbol_id time_close                                           \nZIL_2469  2019-01-01T20:59:59.999Z  2019-01-01T20:00:00.000Z   \n          2019-01-01T21:59:59.999Z  2019-01-01T21:00:00.000Z   \n          2019-01-01T22:59:59.999Z  2019-01-01T22:00:00.000Z   \n          2019-01-01T23:59:59.999Z  2019-01-01T23:00:00.000Z   \n          2019-01-02T00:59:59.999Z  2019-01-02T00:00:00.000Z   \n\n                                                   time_high  \\\nsymbol_id time_close                                           \nZIL_2469  2019-01-01T20:59:59.999Z  2019-01-01T20:52:19.000Z   \n          2019-01-01T21:59:59.999Z  2019-01-01T21:17:18.000Z   \n          2019-01-01T22:59:59.999Z  2019-01-01T22:45:18.000Z   \n          2019-01-01T23:59:59.999Z  2019-01-01T23:31:17.000Z   \n          2019-01-02T00:59:59.999Z  2019-01-02T00:04:21.000Z   \n\n                                                    time_low  quote.USD.open  \\\nsymbol_id time_close                                                           \nZIL_2469  2019-01-01T20:59:59.999Z  2019-01-01T20:00:15.000Z        0.019861   \n          2019-01-01T21:59:59.999Z  2019-01-01T21:01:21.000Z        0.020221   \n          2019-01-01T22:59:59.999Z  2019-01-01T22:23:19.000Z        0.020231   \n          2019-01-01T23:59:59.999Z  2019-01-01T23:00:16.000Z        0.020278   \n          2019-01-02T00:59:59.999Z  2019-01-02T00:45:17.000Z        0.020800   \n\n                                    quote.USD.high  quote.USD.low  \\\nsymbol_id time_close                                                \nZIL_2469  2019-01-01T20:59:59.999Z        0.020177       0.019861   \n          2019-01-01T21:59:59.999Z        0.020316       0.020152   \n          2019-01-01T22:59:59.999Z        0.020285       0.020080   \n          2019-01-01T23:59:59.999Z        0.020830       0.020269   \n          2019-01-02T00:59:59.999Z        0.020800       0.020442   \n\n                                    quote.USD.close  quote.USD.market_cap  \\\nsymbol_id time_close                                                        \nZIL_2469  2019-01-01T20:59:59.999Z         0.020133          1.878770e+08   \n          2019-01-01T21:59:59.999Z         0.020208          1.885781e+08   \n          2019-01-01T22:59:59.999Z         0.020236          1.888430e+08   \n          2019-01-01T23:59:59.999Z         0.020717          1.933268e+08   \n          2019-01-02T00:59:59.999Z         0.020528          1.915641e+08   \n\n                                    quote.USD.volume  \\\nsymbol_id time_close                                   \nZIL_2469  2019-01-01T20:59:59.999Z               NaN   \n          2019-01-01T21:59:59.999Z               NaN   \n          2019-01-01T22:59:59.999Z               NaN   \n          2019-01-01T23:59:59.999Z               NaN   \n          2019-01-02T00:59:59.999Z               NaN   \n\n                                         quote.USD.timestamp symbol    id  \nsymbol_id time_close                                                       \nZIL_2469  2019-01-01T20:59:59.999Z  2019-01-01T20:59:59.999Z    ZIL  2469  \n          2019-01-01T21:59:59.999Z  2019-01-01T21:59:59.999Z    ZIL  2469  \n          2019-01-01T22:59:59.999Z  2019-01-01T22:59:59.999Z    ZIL  2469  \n          2019-01-01T23:59:59.999Z  2019-01-01T23:59:59.999Z    ZIL  2469  \n          2019-01-02T00:59:59.999Z  2019-01-02T00:59:59.999Z    ZIL  2469  ",
      "text/html": "<div>\n<style scoped>\n    .dataframe tbody tr th:only-of-type {\n        vertical-align: middle;\n    }\n\n    .dataframe tbody tr th {\n        vertical-align: top;\n    }\n\n    .dataframe thead th {\n        text-align: right;\n    }\n</style>\n<table border=\"1\" class=\"dataframe\">\n  <thead>\n    <tr style=\"text-align: right;\">\n      <th></th>\n      <th></th>\n      <th>time_open</th>\n      <th>time_high</th>\n      <th>time_low</th>\n      <th>quote.USD.open</th>\n      <th>quote.USD.high</th>\n      <th>quote.USD.low</th>\n      <th>quote.USD.close</th>\n      <th>quote.USD.market_cap</th>\n      <th>quote.USD.volume</th>\n      <th>quote.USD.timestamp</th>\n      <th>symbol</th>\n      <th>id</th>\n    </tr>\n    <tr>\n      <th>symbol_id</th>\n      <th>time_close</th>\n      <th></th>\n      <th></th>\n      <th></th>\n      <th></th>\n      <th></th>\n      <th></th>\n      <th></th>\n      <th></th>\n      <th></th>\n      <th></th>\n      <th></th>\n      <th></th>\n    </tr>\n  </thead>\n  <tbody>\n    <tr>\n      <th rowspan=\"5\" valign=\"top\">ZIL_2469</th>\n      <th>2019-01-01T20:59:59.999Z</th>\n      <td>2019-01-01T20:00:00.000Z</td>\n      <td>2019-01-01T20:52:19.000Z</td>\n      <td>2019-01-01T20:00:15.000Z</td>\n      <td>0.019861</td>\n      <td>0.020177</td>\n      <td>0.019861</td>\n      <td>0.020133</td>\n      <td>1.878770e+08</td>\n      <td>NaN</td>\n      <td>2019-01-01T20:59:59.999Z</td>\n      <td>ZIL</td>\n      <td>2469</td>\n    </tr>\n    <tr>\n      <th>2019-01-01T21:59:59.999Z</th>\n      <td>2019-01-01T21:00:00.000Z</td>\n      <td>2019-01-01T21:17:18.000Z</td>\n      <td>2019-01-01T21:01:21.000Z</td>\n      <td>0.020221</td>\n      <td>0.020316</td>\n      <td>0.020152</td>\n      <td>0.020208</td>\n      <td>1.885781e+08</td>\n      <td>NaN</td>\n      <td>2019-01-01T21:59:59.999Z</td>\n      <td>ZIL</td>\n      <td>2469</td>\n    </tr>\n    <tr>\n      <th>2019-01-01T22:59:59.999Z</th>\n      <td>2019-01-01T22:00:00.000Z</td>\n      <td>2019-01-01T22:45:18.000Z</td>\n      <td>2019-01-01T22:23:19.000Z</td>\n      <td>0.020231</td>\n      <td>0.020285</td>\n      <td>0.020080</td>\n      <td>0.020236</td>\n      <td>1.888430e+08</td>\n      <td>NaN</td>\n      <td>2019-01-01T22:59:59.999Z</td>\n      <td>ZIL</td>\n      <td>2469</td>\n    </tr>\n    <tr>\n      <th>2019-01-01T23:59:59.999Z</th>\n      <td>2019-01-01T23:00:00.000Z</td>\n      <td>2019-01-01T23:31:17.000Z</td>\n      <td>2019-01-01T23:00:16.000Z</td>\n      <td>0.020278</td>\n      <td>0.020830</td>\n      <td>0.020269</td>\n      <td>0.020717</td>\n      <td>1.933268e+08</td>\n      <td>NaN</td>\n      <td>2019-01-01T23:59:59.999Z</td>\n      <td>ZIL</td>\n      <td>2469</td>\n    </tr>\n    <tr>\n      <th>2019-01-02T00:59:59.999Z</th>\n      <td>2019-01-02T00:00:00.000Z</td>\n      <td>2019-01-02T00:04:21.000Z</td>\n      <td>2019-01-02T00:45:17.000Z</td>\n      <td>0.020800</td>\n      <td>0.020800</td>\n      <td>0.020442</td>\n      <td>0.020528</td>\n      <td>1.915641e+08</td>\n      <td>NaN</td>\n      <td>2019-01-02T00:59:59.999Z</td>\n      <td>ZIL</td>\n      <td>2469</td>\n    </tr>\n  </tbody>\n</table>\n</div>"
     },
     "metadata": {},
     "output_type": "display_data"
    }
   ],
   "source": [
    "from pandas import read_parquet\n",
    "#\n",
    "data = read_parquet(\"hourly.parquet.gzip\")\n",
    "display(data.head())\n",
    "# print(data.index.values)"
   ],
   "metadata": {
    "collapsed": false
   }
  },
  {
   "cell_type": "code",
   "execution_count": 16,
   "outputs": [
    {
     "data": {
      "text/plain": "                                                   time_open  \\\nsymbol_id time_close                                           \nZIL_2469  2019-01-01T20:59:59.999Z  2019-01-01T20:00:00.000Z   \n          2019-01-01T21:59:59.999Z  2019-01-01T21:00:00.000Z   \n          2019-01-01T22:59:59.999Z  2019-01-01T22:00:00.000Z   \n          2019-01-01T23:59:59.999Z  2019-01-01T23:00:00.000Z   \n          2019-01-02T00:59:59.999Z  2019-01-02T00:00:00.000Z   \n\n                                                   time_high  \\\nsymbol_id time_close                                           \nZIL_2469  2019-01-01T20:59:59.999Z  2019-01-01T20:52:19.000Z   \n          2019-01-01T21:59:59.999Z  2019-01-01T21:17:18.000Z   \n          2019-01-01T22:59:59.999Z  2019-01-01T22:45:18.000Z   \n          2019-01-01T23:59:59.999Z  2019-01-01T23:31:17.000Z   \n          2019-01-02T00:59:59.999Z  2019-01-02T00:04:21.000Z   \n\n                                                    time_low  quote.USD.open  \\\nsymbol_id time_close                                                           \nZIL_2469  2019-01-01T20:59:59.999Z  2019-01-01T20:00:15.000Z        0.019861   \n          2019-01-01T21:59:59.999Z  2019-01-01T21:01:21.000Z        0.020221   \n          2019-01-01T22:59:59.999Z  2019-01-01T22:23:19.000Z        0.020231   \n          2019-01-01T23:59:59.999Z  2019-01-01T23:00:16.000Z        0.020278   \n          2019-01-02T00:59:59.999Z  2019-01-02T00:45:17.000Z        0.020800   \n\n                                    quote.USD.high  quote.USD.low  \\\nsymbol_id time_close                                                \nZIL_2469  2019-01-01T20:59:59.999Z        0.020177       0.019861   \n          2019-01-01T21:59:59.999Z        0.020316       0.020152   \n          2019-01-01T22:59:59.999Z        0.020285       0.020080   \n          2019-01-01T23:59:59.999Z        0.020830       0.020269   \n          2019-01-02T00:59:59.999Z        0.020800       0.020442   \n\n                                    quote.USD.close  quote.USD.market_cap  \\\nsymbol_id time_close                                                        \nZIL_2469  2019-01-01T20:59:59.999Z         0.020133          1.878770e+08   \n          2019-01-01T21:59:59.999Z         0.020208          1.885781e+08   \n          2019-01-01T22:59:59.999Z         0.020236          1.888430e+08   \n          2019-01-01T23:59:59.999Z         0.020717          1.933268e+08   \n          2019-01-02T00:59:59.999Z         0.020528          1.915641e+08   \n\n                                    quote.USD.volume  \\\nsymbol_id time_close                                   \nZIL_2469  2019-01-01T20:59:59.999Z               NaN   \n          2019-01-01T21:59:59.999Z               NaN   \n          2019-01-01T22:59:59.999Z               NaN   \n          2019-01-01T23:59:59.999Z               NaN   \n          2019-01-02T00:59:59.999Z               NaN   \n\n                                         quote.USD.timestamp symbol    id  \nsymbol_id time_close                                                       \nZIL_2469  2019-01-01T20:59:59.999Z  2019-01-01T20:59:59.999Z    ZIL  2469  \n          2019-01-01T21:59:59.999Z  2019-01-01T21:59:59.999Z    ZIL  2469  \n          2019-01-01T22:59:59.999Z  2019-01-01T22:59:59.999Z    ZIL  2469  \n          2019-01-01T23:59:59.999Z  2019-01-01T23:59:59.999Z    ZIL  2469  \n          2019-01-02T00:59:59.999Z  2019-01-02T00:59:59.999Z    ZIL  2469  ",
      "text/html": "<div>\n<style scoped>\n    .dataframe tbody tr th:only-of-type {\n        vertical-align: middle;\n    }\n\n    .dataframe tbody tr th {\n        vertical-align: top;\n    }\n\n    .dataframe thead th {\n        text-align: right;\n    }\n</style>\n<table border=\"1\" class=\"dataframe\">\n  <thead>\n    <tr style=\"text-align: right;\">\n      <th></th>\n      <th></th>\n      <th>time_open</th>\n      <th>time_high</th>\n      <th>time_low</th>\n      <th>quote.USD.open</th>\n      <th>quote.USD.high</th>\n      <th>quote.USD.low</th>\n      <th>quote.USD.close</th>\n      <th>quote.USD.market_cap</th>\n      <th>quote.USD.volume</th>\n      <th>quote.USD.timestamp</th>\n      <th>symbol</th>\n      <th>id</th>\n    </tr>\n    <tr>\n      <th>symbol_id</th>\n      <th>time_close</th>\n      <th></th>\n      <th></th>\n      <th></th>\n      <th></th>\n      <th></th>\n      <th></th>\n      <th></th>\n      <th></th>\n      <th></th>\n      <th></th>\n      <th></th>\n      <th></th>\n    </tr>\n  </thead>\n  <tbody>\n    <tr>\n      <th rowspan=\"5\" valign=\"top\">ZIL_2469</th>\n      <th>2019-01-01T20:59:59.999Z</th>\n      <td>2019-01-01T20:00:00.000Z</td>\n      <td>2019-01-01T20:52:19.000Z</td>\n      <td>2019-01-01T20:00:15.000Z</td>\n      <td>0.019861</td>\n      <td>0.020177</td>\n      <td>0.019861</td>\n      <td>0.020133</td>\n      <td>1.878770e+08</td>\n      <td>NaN</td>\n      <td>2019-01-01T20:59:59.999Z</td>\n      <td>ZIL</td>\n      <td>2469</td>\n    </tr>\n    <tr>\n      <th>2019-01-01T21:59:59.999Z</th>\n      <td>2019-01-01T21:00:00.000Z</td>\n      <td>2019-01-01T21:17:18.000Z</td>\n      <td>2019-01-01T21:01:21.000Z</td>\n      <td>0.020221</td>\n      <td>0.020316</td>\n      <td>0.020152</td>\n      <td>0.020208</td>\n      <td>1.885781e+08</td>\n      <td>NaN</td>\n      <td>2019-01-01T21:59:59.999Z</td>\n      <td>ZIL</td>\n      <td>2469</td>\n    </tr>\n    <tr>\n      <th>2019-01-01T22:59:59.999Z</th>\n      <td>2019-01-01T22:00:00.000Z</td>\n      <td>2019-01-01T22:45:18.000Z</td>\n      <td>2019-01-01T22:23:19.000Z</td>\n      <td>0.020231</td>\n      <td>0.020285</td>\n      <td>0.020080</td>\n      <td>0.020236</td>\n      <td>1.888430e+08</td>\n      <td>NaN</td>\n      <td>2019-01-01T22:59:59.999Z</td>\n      <td>ZIL</td>\n      <td>2469</td>\n    </tr>\n    <tr>\n      <th>2019-01-01T23:59:59.999Z</th>\n      <td>2019-01-01T23:00:00.000Z</td>\n      <td>2019-01-01T23:31:17.000Z</td>\n      <td>2019-01-01T23:00:16.000Z</td>\n      <td>0.020278</td>\n      <td>0.020830</td>\n      <td>0.020269</td>\n      <td>0.020717</td>\n      <td>1.933268e+08</td>\n      <td>NaN</td>\n      <td>2019-01-01T23:59:59.999Z</td>\n      <td>ZIL</td>\n      <td>2469</td>\n    </tr>\n    <tr>\n      <th>2019-01-02T00:59:59.999Z</th>\n      <td>2019-01-02T00:00:00.000Z</td>\n      <td>2019-01-02T00:04:21.000Z</td>\n      <td>2019-01-02T00:45:17.000Z</td>\n      <td>0.020800</td>\n      <td>0.020800</td>\n      <td>0.020442</td>\n      <td>0.020528</td>\n      <td>1.915641e+08</td>\n      <td>NaN</td>\n      <td>2019-01-02T00:59:59.999Z</td>\n      <td>ZIL</td>\n      <td>2469</td>\n    </tr>\n  </tbody>\n</table>\n</div>"
     },
     "execution_count": 16,
     "metadata": {},
     "output_type": "execute_result"
    }
   ],
   "source": [
    "df = pd.read_parquet('hourly.parquet.gzip') # modify the path according to your needs\n",
    "df.head()\n"
   ],
   "metadata": {
    "collapsed": false
   }
  },
  {
   "cell_type": "code",
   "execution_count": 17,
   "outputs": [
    {
     "name": "stdout",
     "output_type": "stream",
     "text": [
      "<class 'pandas.core.frame.DataFrame'>\n",
      "MultiIndex: 31676 entries, ('ETH_1027', '2019-01-01T20:59:59.999Z') to ('ETH_1027', '2022-10-10T19:59:59.999Z')\n",
      "Data columns (total 12 columns):\n",
      " #   Column                Non-Null Count  Dtype  \n",
      "---  ------                --------------  -----  \n",
      " 0   time_open             31676 non-null  object \n",
      " 1   time_high             31675 non-null  object \n",
      " 2   time_low              31675 non-null  object \n",
      " 3   quote.USD.open        31676 non-null  float64\n",
      " 4   quote.USD.high        31676 non-null  float64\n",
      " 5   quote.USD.low         31676 non-null  float64\n",
      " 6   quote.USD.close       31676 non-null  float64\n",
      " 7   quote.USD.market_cap  31676 non-null  float64\n",
      " 8   quote.USD.volume      16526 non-null  float64\n",
      " 9   quote.USD.timestamp   31676 non-null  object \n",
      " 10  symbol                31676 non-null  object \n",
      " 11  id                    31676 non-null  int64  \n",
      "dtypes: float64(6), int64(1), object(5)\n",
      "memory usage: 4.2+ MB\n"
     ]
    }
   ],
   "source": [
    "new_df = df[df[\"symbol\"].str.contains('ETH')]\n",
    "new_df.info()"
   ],
   "metadata": {
    "collapsed": false
   }
  },
  {
   "cell_type": "code",
   "execution_count": 18,
   "outputs": [
    {
     "name": "stdout",
     "output_type": "stream",
     "text": [
      "<class 'pandas.core.frame.DataFrame'>\n",
      "MultiIndex: 31676 entries, ('DOGE_74', '2019-01-01T20:59:59.999Z') to ('DOGE_74', '2022-10-10T19:59:59.999Z')\n",
      "Data columns (total 12 columns):\n",
      " #   Column                Non-Null Count  Dtype  \n",
      "---  ------                --------------  -----  \n",
      " 0   time_open             31676 non-null  object \n",
      " 1   time_high             31675 non-null  object \n",
      " 2   time_low              31675 non-null  object \n",
      " 3   quote.USD.open        31676 non-null  float64\n",
      " 4   quote.USD.high        31676 non-null  float64\n",
      " 5   quote.USD.low         31676 non-null  float64\n",
      " 6   quote.USD.close       31676 non-null  float64\n",
      " 7   quote.USD.market_cap  31676 non-null  float64\n",
      " 8   quote.USD.volume      16526 non-null  float64\n",
      " 9   quote.USD.timestamp   31676 non-null  object \n",
      " 10  symbol                31676 non-null  object \n",
      " 11  id                    31676 non-null  int64  \n",
      "dtypes: float64(6), int64(1), object(5)\n",
      "memory usage: 4.2+ MB\n"
     ]
    }
   ],
   "source": [
    "new_df = df[df[\"symbol\"].str.contains('DOGE')]\n",
    "new_df.info()"
   ],
   "metadata": {
    "collapsed": false
   }
  },
  {
   "cell_type": "code",
   "execution_count": 19,
   "id": "fc5bb3ff-ea11-4cf4-901d-16826dc6d94b",
   "metadata": {},
   "outputs": [
    {
     "data": {
      "text/plain": "            id      name symbol      slug  num_market_pairs  \\\ncmc_rank                                                      \n1            1   Bitcoin    BTC   bitcoin              9760   \n2         1027  Ethereum    ETH  ethereum              6121   \n3          825    Tether   USDT    tether             40468   \n4         1839       BNB    BNB       bnb              1120   \n5         3408  USD Coin   USDC  usd-coin              6429   \n\n                        date_added  \\\ncmc_rank                             \n1         2013-04-28T00:00:00.000Z   \n2         2015-08-07T00:00:00.000Z   \n3         2015-02-25T00:00:00.000Z   \n4         2017-07-25T00:00:00.000Z   \n5         2018-10-08T00:00:00.000Z   \n\n                                                       tags   max_supply  \\\ncmc_rank                                                                   \n1         [mineable, pow, sha-256, store-of-value, state...   21000000.0   \n2         [pos, smart-contracts, ethereum-ecosystem, coi...          NaN   \n3         [payments, stablecoin, asset-backed-stablecoin...          NaN   \n4         [marketplace, centralized-exchange, payments, ...  200000000.0   \n5         [medium-of-exchange, stablecoin, asset-backed-...          NaN   \n\n          circulating_supply  total_supply  \\\ncmc_rank                                     \n1               1.916889e+07  1.916889e+07   \n2               1.226484e+08  1.226484e+08   \n3               6.794942e+10  7.015545e+10   \n4               1.613373e+08  1.613373e+08   \n5               4.703592e+10  4.703592e+10   \n\n                                                   platform  \\\ncmc_rank                                                      \n1                                                      None   \n2                                                      None   \n3         {'id': 1027, 'name': 'Ethereum', 'symbol': 'ET...   \n4                                                      None   \n5         {'id': 1027, 'name': 'Ethereum', 'symbol': 'ET...   \n\n          self_reported_circulating_supply  self_reported_market_cap  \\\ncmc_rank                                                               \n1                                      NaN                       NaN   \n2                                      NaN                       NaN   \n3                                      NaN                       NaN   \n4                                      NaN                       NaN   \n5                                      NaN                       NaN   \n\n          tvl_ratio              last_updated  \\\ncmc_rank                                        \n1               NaN  2022-10-04T14:02:00.000Z   \n2               NaN  2022-10-04T14:02:00.000Z   \n3               NaN  2022-10-04T14:02:00.000Z   \n4               NaN  2022-10-04T14:02:00.000Z   \n5               NaN  2022-10-04T14:02:00.000Z   \n\n                                                      quote  symbol_id  \ncmc_rank                                                                \n1         {'USD': {'price': 20124.645699098404, 'volume_...      BTC_1  \n2         {'USD': {'price': 1355.3241075801398, 'volume_...   ETH_1027  \n3         {'USD': {'price': 1.0002059770173375, 'volume_...   USDT_825  \n4         {'USD': {'price': 296.4318964135179, 'volume_2...   BNB_1839  \n5         {'USD': {'price': 1.000153755174831, 'volume_2...  USDC_3408  ",
      "text/html": "<div>\n<style scoped>\n    .dataframe tbody tr th:only-of-type {\n        vertical-align: middle;\n    }\n\n    .dataframe tbody tr th {\n        vertical-align: top;\n    }\n\n    .dataframe thead th {\n        text-align: right;\n    }\n</style>\n<table border=\"1\" class=\"dataframe\">\n  <thead>\n    <tr style=\"text-align: right;\">\n      <th></th>\n      <th>id</th>\n      <th>name</th>\n      <th>symbol</th>\n      <th>slug</th>\n      <th>num_market_pairs</th>\n      <th>date_added</th>\n      <th>tags</th>\n      <th>max_supply</th>\n      <th>circulating_supply</th>\n      <th>total_supply</th>\n      <th>platform</th>\n      <th>self_reported_circulating_supply</th>\n      <th>self_reported_market_cap</th>\n      <th>tvl_ratio</th>\n      <th>last_updated</th>\n      <th>quote</th>\n      <th>symbol_id</th>\n    </tr>\n    <tr>\n      <th>cmc_rank</th>\n      <th></th>\n      <th></th>\n      <th></th>\n      <th></th>\n      <th></th>\n      <th></th>\n      <th></th>\n      <th></th>\n      <th></th>\n      <th></th>\n      <th></th>\n      <th></th>\n      <th></th>\n      <th></th>\n      <th></th>\n      <th></th>\n      <th></th>\n    </tr>\n  </thead>\n  <tbody>\n    <tr>\n      <th>1</th>\n      <td>1</td>\n      <td>Bitcoin</td>\n      <td>BTC</td>\n      <td>bitcoin</td>\n      <td>9760</td>\n      <td>2013-04-28T00:00:00.000Z</td>\n      <td>[mineable, pow, sha-256, store-of-value, state...</td>\n      <td>21000000.0</td>\n      <td>1.916889e+07</td>\n      <td>1.916889e+07</td>\n      <td>None</td>\n      <td>NaN</td>\n      <td>NaN</td>\n      <td>NaN</td>\n      <td>2022-10-04T14:02:00.000Z</td>\n      <td>{'USD': {'price': 20124.645699098404, 'volume_...</td>\n      <td>BTC_1</td>\n    </tr>\n    <tr>\n      <th>2</th>\n      <td>1027</td>\n      <td>Ethereum</td>\n      <td>ETH</td>\n      <td>ethereum</td>\n      <td>6121</td>\n      <td>2015-08-07T00:00:00.000Z</td>\n      <td>[pos, smart-contracts, ethereum-ecosystem, coi...</td>\n      <td>NaN</td>\n      <td>1.226484e+08</td>\n      <td>1.226484e+08</td>\n      <td>None</td>\n      <td>NaN</td>\n      <td>NaN</td>\n      <td>NaN</td>\n      <td>2022-10-04T14:02:00.000Z</td>\n      <td>{'USD': {'price': 1355.3241075801398, 'volume_...</td>\n      <td>ETH_1027</td>\n    </tr>\n    <tr>\n      <th>3</th>\n      <td>825</td>\n      <td>Tether</td>\n      <td>USDT</td>\n      <td>tether</td>\n      <td>40468</td>\n      <td>2015-02-25T00:00:00.000Z</td>\n      <td>[payments, stablecoin, asset-backed-stablecoin...</td>\n      <td>NaN</td>\n      <td>6.794942e+10</td>\n      <td>7.015545e+10</td>\n      <td>{'id': 1027, 'name': 'Ethereum', 'symbol': 'ET...</td>\n      <td>NaN</td>\n      <td>NaN</td>\n      <td>NaN</td>\n      <td>2022-10-04T14:02:00.000Z</td>\n      <td>{'USD': {'price': 1.0002059770173375, 'volume_...</td>\n      <td>USDT_825</td>\n    </tr>\n    <tr>\n      <th>4</th>\n      <td>1839</td>\n      <td>BNB</td>\n      <td>BNB</td>\n      <td>bnb</td>\n      <td>1120</td>\n      <td>2017-07-25T00:00:00.000Z</td>\n      <td>[marketplace, centralized-exchange, payments, ...</td>\n      <td>200000000.0</td>\n      <td>1.613373e+08</td>\n      <td>1.613373e+08</td>\n      <td>None</td>\n      <td>NaN</td>\n      <td>NaN</td>\n      <td>NaN</td>\n      <td>2022-10-04T14:02:00.000Z</td>\n      <td>{'USD': {'price': 296.4318964135179, 'volume_2...</td>\n      <td>BNB_1839</td>\n    </tr>\n    <tr>\n      <th>5</th>\n      <td>3408</td>\n      <td>USD Coin</td>\n      <td>USDC</td>\n      <td>usd-coin</td>\n      <td>6429</td>\n      <td>2018-10-08T00:00:00.000Z</td>\n      <td>[medium-of-exchange, stablecoin, asset-backed-...</td>\n      <td>NaN</td>\n      <td>4.703592e+10</td>\n      <td>4.703592e+10</td>\n      <td>{'id': 1027, 'name': 'Ethereum', 'symbol': 'ET...</td>\n      <td>NaN</td>\n      <td>NaN</td>\n      <td>NaN</td>\n      <td>2022-10-04T14:02:00.000Z</td>\n      <td>{'USD': {'price': 1.000153755174831, 'volume_2...</td>\n      <td>USDC_3408</td>\n    </tr>\n  </tbody>\n</table>\n</div>"
     },
     "execution_count": 19,
     "metadata": {},
     "output_type": "execute_result"
    }
   ],
   "source": [
    "with open('listing_map_20221004.json',encoding='utf-8') as json_data:\n",
    "    data = json.load(json_data)\n",
    "listmap = pd.DataFrame(data['data'])\n",
    "listmap.sort_values('cmc_rank',inplace=True)\n",
    "listmap.set_index('cmc_rank',inplace=True)\n",
    "listmap['symbol_id'] = listmap['symbol']+ '_'+ listmap['id'].astype(str)\n",
    "listmap.head()"
   ]
  },
  {
   "cell_type": "markdown",
   "id": "a2901e29-8ed5-4b32-bbf2-d3244a534df2",
   "metadata": {},
   "source": [
    "# Filter by the universe\n",
    "Select only the symbols that interest you. According to our previous choice of N, in this case we are filtering for the top 50 by market cap"
   ]
  },
  {
   "cell_type": "code",
   "execution_count": 20,
   "id": "4079ee72-9151-4cb4-9cb1-ccf4fc6b25ab",
   "metadata": {},
   "outputs": [],
   "source": [
    "symbols = list(listmap.loc[:N,'symbol_id'].values)"
   ]
  },
  {
   "cell_type": "markdown",
   "id": "4e83cd31-d489-46f1-b004-e9cd1f5de285",
   "metadata": {},
   "source": [
    "Remove stablecoins by using the category JSON (available in sakai as the listing file)"
   ]
  },
  {
   "cell_type": "code",
   "execution_count": 21,
   "id": "83047702-6ec2-4735-995a-22bb8b471547",
   "metadata": {},
   "outputs": [
    {
     "data": {
      "text/plain": "     id         name symbol                  slug  num_market_pairs  \\\n0   825       Tether   USDT                tether             35908   \n1  3408     USD Coin   USDC              usd-coin              4787   \n2  4687  Binance USD   BUSD           binance-usd              4028   \n3  4943          Dai    DAI  multi-collateral-dai              1019   \n4  6952         Frax   FRAX                  frax               135   \n\n                 date_added  \\\n0  2015-02-25T00:00:00.000Z   \n1  2018-10-08T00:00:00.000Z   \n2  2019-09-20T00:00:00.000Z   \n3  2019-11-22T00:00:00.000Z   \n4  2020-09-08T00:00:00.000Z   \n\n                                                tags  max_supply  \\\n0  [payments, stablecoin, asset-backed-stablecoin...         NaN   \n1  [medium-of-exchange, stablecoin, asset-backed-...         NaN   \n2  [stablecoin, asset-backed-stablecoin, binance-...         NaN   \n3  [defi, stablecoin, ethereum-ecosystem, avalanc...         NaN   \n4  [defi, stablecoin, algorithmic-stablecoin, sei...         NaN   \n\n   circulating_supply  total_supply  ...  quote.USD.percent_change_30d  \\\n0        6.599228e+10  6.816037e+10  ...                      0.005916   \n1        5.554694e+10  5.554694e+10  ...                     -0.040697   \n2        1.754722e+10  1.754722e+10  ...                      0.205461   \n3        6.926538e+09  6.926538e+09  ...                      0.100228   \n4        1.366324e+09  1.366324e+09  ...                      0.260128   \n\n   quote.USD.percent_change_60d  quote.USD.percent_change_90d  \\\n0                     -0.051152                     -0.110549   \n1                      0.032473                      0.055801   \n2                      0.189911                      0.228809   \n3                      0.269779                      0.113622   \n4                      1.185800                      0.015312   \n\n   quote.USD.market_cap  quote.USD.market_cap_dominance  \\\n0          6.595395e+10                          6.8691   \n1          5.555146e+10                          5.7844   \n2          1.758121e+10                          1.8301   \n3          6.930935e+09                          0.7215   \n4          1.365766e+09                          0.0000   \n\n   quote.USD.fully_diluted_market_cap quote.USD.tvl    quote.USD.last_updated  \\\n0                        6.812077e+10           NaN  2022-07-08T18:40:00.000Z   \n1                        5.555146e+10           NaN  2022-07-08T18:40:00.000Z   \n2                        1.758121e+10           NaN  2022-07-08T18:41:00.000Z   \n3                        6.930935e+09           NaN  2022-07-08T18:41:00.000Z   \n4                        1.365766e+09           NaN  2022-07-08T18:41:00.000Z   \n\n  platform  symbol_id  \n0      NaN   USDT_825  \n1      NaN  USDC_3408  \n2      NaN  BUSD_4687  \n3      NaN   DAI_4943  \n4      NaN  FRAX_6952  \n\n[5 rows x 38 columns]",
      "text/html": "<div>\n<style scoped>\n    .dataframe tbody tr th:only-of-type {\n        vertical-align: middle;\n    }\n\n    .dataframe tbody tr th {\n        vertical-align: top;\n    }\n\n    .dataframe thead th {\n        text-align: right;\n    }\n</style>\n<table border=\"1\" class=\"dataframe\">\n  <thead>\n    <tr style=\"text-align: right;\">\n      <th></th>\n      <th>id</th>\n      <th>name</th>\n      <th>symbol</th>\n      <th>slug</th>\n      <th>num_market_pairs</th>\n      <th>date_added</th>\n      <th>tags</th>\n      <th>max_supply</th>\n      <th>circulating_supply</th>\n      <th>total_supply</th>\n      <th>...</th>\n      <th>quote.USD.percent_change_30d</th>\n      <th>quote.USD.percent_change_60d</th>\n      <th>quote.USD.percent_change_90d</th>\n      <th>quote.USD.market_cap</th>\n      <th>quote.USD.market_cap_dominance</th>\n      <th>quote.USD.fully_diluted_market_cap</th>\n      <th>quote.USD.tvl</th>\n      <th>quote.USD.last_updated</th>\n      <th>platform</th>\n      <th>symbol_id</th>\n    </tr>\n  </thead>\n  <tbody>\n    <tr>\n      <th>0</th>\n      <td>825</td>\n      <td>Tether</td>\n      <td>USDT</td>\n      <td>tether</td>\n      <td>35908</td>\n      <td>2015-02-25T00:00:00.000Z</td>\n      <td>[payments, stablecoin, asset-backed-stablecoin...</td>\n      <td>NaN</td>\n      <td>6.599228e+10</td>\n      <td>6.816037e+10</td>\n      <td>...</td>\n      <td>0.005916</td>\n      <td>-0.051152</td>\n      <td>-0.110549</td>\n      <td>6.595395e+10</td>\n      <td>6.8691</td>\n      <td>6.812077e+10</td>\n      <td>NaN</td>\n      <td>2022-07-08T18:40:00.000Z</td>\n      <td>NaN</td>\n      <td>USDT_825</td>\n    </tr>\n    <tr>\n      <th>1</th>\n      <td>3408</td>\n      <td>USD Coin</td>\n      <td>USDC</td>\n      <td>usd-coin</td>\n      <td>4787</td>\n      <td>2018-10-08T00:00:00.000Z</td>\n      <td>[medium-of-exchange, stablecoin, asset-backed-...</td>\n      <td>NaN</td>\n      <td>5.554694e+10</td>\n      <td>5.554694e+10</td>\n      <td>...</td>\n      <td>-0.040697</td>\n      <td>0.032473</td>\n      <td>0.055801</td>\n      <td>5.555146e+10</td>\n      <td>5.7844</td>\n      <td>5.555146e+10</td>\n      <td>NaN</td>\n      <td>2022-07-08T18:40:00.000Z</td>\n      <td>NaN</td>\n      <td>USDC_3408</td>\n    </tr>\n    <tr>\n      <th>2</th>\n      <td>4687</td>\n      <td>Binance USD</td>\n      <td>BUSD</td>\n      <td>binance-usd</td>\n      <td>4028</td>\n      <td>2019-09-20T00:00:00.000Z</td>\n      <td>[stablecoin, asset-backed-stablecoin, binance-...</td>\n      <td>NaN</td>\n      <td>1.754722e+10</td>\n      <td>1.754722e+10</td>\n      <td>...</td>\n      <td>0.205461</td>\n      <td>0.189911</td>\n      <td>0.228809</td>\n      <td>1.758121e+10</td>\n      <td>1.8301</td>\n      <td>1.758121e+10</td>\n      <td>NaN</td>\n      <td>2022-07-08T18:41:00.000Z</td>\n      <td>NaN</td>\n      <td>BUSD_4687</td>\n    </tr>\n    <tr>\n      <th>3</th>\n      <td>4943</td>\n      <td>Dai</td>\n      <td>DAI</td>\n      <td>multi-collateral-dai</td>\n      <td>1019</td>\n      <td>2019-11-22T00:00:00.000Z</td>\n      <td>[defi, stablecoin, ethereum-ecosystem, avalanc...</td>\n      <td>NaN</td>\n      <td>6.926538e+09</td>\n      <td>6.926538e+09</td>\n      <td>...</td>\n      <td>0.100228</td>\n      <td>0.269779</td>\n      <td>0.113622</td>\n      <td>6.930935e+09</td>\n      <td>0.7215</td>\n      <td>6.930935e+09</td>\n      <td>NaN</td>\n      <td>2022-07-08T18:41:00.000Z</td>\n      <td>NaN</td>\n      <td>DAI_4943</td>\n    </tr>\n    <tr>\n      <th>4</th>\n      <td>6952</td>\n      <td>Frax</td>\n      <td>FRAX</td>\n      <td>frax</td>\n      <td>135</td>\n      <td>2020-09-08T00:00:00.000Z</td>\n      <td>[defi, stablecoin, algorithmic-stablecoin, sei...</td>\n      <td>NaN</td>\n      <td>1.366324e+09</td>\n      <td>1.366324e+09</td>\n      <td>...</td>\n      <td>0.260128</td>\n      <td>1.185800</td>\n      <td>0.015312</td>\n      <td>1.365766e+09</td>\n      <td>0.0000</td>\n      <td>1.365766e+09</td>\n      <td>NaN</td>\n      <td>2022-07-08T18:41:00.000Z</td>\n      <td>NaN</td>\n      <td>FRAX_6952</td>\n    </tr>\n  </tbody>\n</table>\n<p>5 rows × 38 columns</p>\n</div>"
     },
     "metadata": {},
     "output_type": "display_data"
    }
   ],
   "source": [
    "with open('category_stablecoin.json',encoding='utf-8') as json_data:\n",
    "    data = json.load(json_data)\n",
    "stable_df = pd.json_normalize(data['data']['coins'],max_level=5)\n",
    "stable_df['symbol_id'] = stable_df['symbol'] + '_' + stable_df['id'].astype(str)\n",
    "display(stable_df.head())\n",
    "stablecoins = list(stable_df['symbol_id'].values)"
   ]
  },
  {
   "cell_type": "code",
   "execution_count": 22,
   "id": "ec0b4b6b-4cec-4727-81da-557e29ab9645",
   "metadata": {},
   "outputs": [
    {
     "name": "stdout",
     "output_type": "stream",
     "text": [
      "{'LTC_2', 'SAND_6210', 'CRO_3635', 'LINK_1975', 'THETA_2416', 'UNI_7083', 'XTZ_2011', 'TRX_1958', 'XRP_52', 'SHIB_5994', 'FLOW_4558', 'ICP_8916', 'BTC_1', 'TON_11419', 'VET_3077', 'DOT_6636', 'EOS_1765', 'NEAR_6535', 'APE_18876', 'FTT_4195', 'OKB_3897', 'HBAR_4642', 'BNB_1839', 'MANA_1966', 'XLM_512', 'ADA_2010', 'DOGE_74', 'ATOM_3794', 'LUNC_4172', 'WBTC_3717', 'EGLD_6892', 'ALGO_4030', 'MATIC_3890', 'ETC_1321', 'QNT_3155', 'ETH_1027', 'AAVE_7278', 'XMR_328', 'AVAX_5805', 'BCH_1831', 'FIL_2280', 'SOL_5426', 'LEO_3957', 'CHZ_4066', 'AXS_6783'}\n"
     ]
    }
   ],
   "source": [
    "# get the top 200 by mkt cap\n",
    "symbols = set(listmap.loc[:N,'symbol_id'].values) - set(stablecoins)\n",
    "print(symbols)\n",
    "for l in stablecoins:\n",
    "    if l in symbols:\n",
    "        print('Stablecoins in the list!')"
   ]
  },
  {
   "cell_type": "code",
   "execution_count": 22,
   "id": "00261c32-ff47-4552-936f-185c02c80379",
   "metadata": {},
   "outputs": [],
   "source": []
  },
  {
   "cell_type": "code",
   "execution_count": 22,
   "id": "26f733dd-7320-428a-b6d6-724e03eb821b",
   "metadata": {},
   "outputs": [],
   "source": []
  },
  {
   "cell_type": "code",
   "execution_count": 22,
   "id": "f88df28f-4403-46a5-9eb6-da2d68357914",
   "metadata": {},
   "outputs": [],
   "source": []
  },
  {
   "cell_type": "code",
   "execution_count": 22,
   "id": "297c391e-62e5-49c5-a791-562f629443b8",
   "metadata": {},
   "outputs": [],
   "source": []
  },
  {
   "cell_type": "code",
   "execution_count": 22,
   "id": "69ec6ca1-2272-48a8-aa38-71915d6d14e7",
   "metadata": {},
   "outputs": [],
   "source": []
  },
  {
   "cell_type": "code",
   "execution_count": 22,
   "id": "63764400-e43d-4ec8-8af6-7b8c3fc537cd",
   "metadata": {},
   "outputs": [],
   "source": []
  },
  {
   "cell_type": "code",
   "execution_count": 22,
   "id": "d91132b9-26a6-44e7-acf2-f4ec7dda728b",
   "metadata": {},
   "outputs": [],
   "source": []
  },
  {
   "cell_type": "code",
   "execution_count": 22,
   "id": "4482960f-7f70-40b4-9eb4-5e8baf0ff6f7",
   "metadata": {},
   "outputs": [],
   "source": []
  },
  {
   "cell_type": "code",
   "execution_count": 22,
   "id": "a3fd05c6-4bc1-4c21-a19d-3667d20c4b0c",
   "metadata": {},
   "outputs": [],
   "source": []
  },
  {
   "cell_type": "code",
   "execution_count": 22,
   "id": "67a061b6-5704-4f22-a0af-e3e8ef804d5c",
   "metadata": {},
   "outputs": [],
   "source": []
  },
  {
   "cell_type": "code",
   "execution_count": 22,
   "id": "25b33083-a1fc-43c1-abf5-8d33483903e7",
   "metadata": {},
   "outputs": [],
   "source": []
  },
  {
   "cell_type": "code",
   "execution_count": 22,
   "id": "369736aa-45a8-4a13-b0ab-25b8bbc48c27",
   "metadata": {},
   "outputs": [],
   "source": []
  }
 ],
 "metadata": {
  "kernelspec": {
   "display_name": "Python 3 (ipykernel)",
   "language": "python",
   "name": "python3"
  },
  "language_info": {
   "codemirror_mode": {
    "name": "ipython",
    "version": 3
   },
   "file_extension": ".py",
   "mimetype": "text/x-python",
   "name": "python",
   "nbconvert_exporter": "python",
   "pygments_lexer": "ipython3",
   "version": "3.9.7"
  }
 },
 "nbformat": 4,
 "nbformat_minor": 5
}
